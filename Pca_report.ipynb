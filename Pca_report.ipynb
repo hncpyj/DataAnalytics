{
  "cells": [
    {
      "cell_type": "markdown",
      "metadata": {
        "id": "view-in-github",
        "colab_type": "text"
      },
      "source": [
        "<a href=\"https://colab.research.google.com/github/hncpyj/DataAnalytics/blob/main/Pca_report.ipynb\" target=\"_parent\"><img src=\"https://colab.research.google.com/assets/colab-badge.svg\" alt=\"Open In Colab\"/></a>"
      ]
    },
    {
      "cell_type": "code",
      "execution_count": null,
      "id": "37eb3b25",
      "metadata": {
        "id": "37eb3b25"
      },
      "outputs": [],
      "source": [
        "import pandas as pd\n",
        "import numpy as np \n",
        "import matplotlib.pyplot as plt"
      ]
    },
    {
      "cell_type": "code",
      "execution_count": null,
      "id": "97371be5",
      "metadata": {
        "id": "97371be5"
      },
      "outputs": [],
      "source": [
        "usa=pd.read_csv('./usarrests.csv')\n",
        "# 데이터 불러와서 변수에 저장"
      ]
    },
    {
      "cell_type": "code",
      "execution_count": null,
      "id": "96ff8907",
      "metadata": {
        "id": "96ff8907"
      },
      "outputs": [],
      "source": [
        "usa.set_index(usa.iloc[:,0],drop=False,append=False,inplace=True,verify_integrity=False)\n",
        "\n"
      ]
    },
    {
      "cell_type": "code",
      "execution_count": null,
      "id": "0583d651",
      "metadata": {
        "id": "0583d651"
      },
      "outputs": [],
      "source": [
        "usa=usa.iloc[:,1:]"
      ]
    },
    {
      "cell_type": "code",
      "execution_count": null,
      "id": "d0a8dc27",
      "metadata": {
        "scrolled": true,
        "id": "d0a8dc27",
        "outputId": "d69e98ed-1a5f-41af-ea47-2d2764730625"
      },
      "outputs": [
        {
          "data": {
            "text/html": [
              "<div>\n",
              "<style scoped>\n",
              "    .dataframe tbody tr th:only-of-type {\n",
              "        vertical-align: middle;\n",
              "    }\n",
              "\n",
              "    .dataframe tbody tr th {\n",
              "        vertical-align: top;\n",
              "    }\n",
              "\n",
              "    .dataframe thead th {\n",
              "        text-align: right;\n",
              "    }\n",
              "</style>\n",
              "<table border=\"1\" class=\"dataframe\">\n",
              "  <thead>\n",
              "    <tr style=\"text-align: right;\">\n",
              "      <th></th>\n",
              "      <th>Murder</th>\n",
              "      <th>Assault</th>\n",
              "      <th>UrbanPop</th>\n",
              "      <th>Rape</th>\n",
              "    </tr>\n",
              "    <tr>\n",
              "      <th>Unnamed: 0</th>\n",
              "      <th></th>\n",
              "      <th></th>\n",
              "      <th></th>\n",
              "      <th></th>\n",
              "    </tr>\n",
              "  </thead>\n",
              "  <tbody>\n",
              "    <tr>\n",
              "      <th>Alabama</th>\n",
              "      <td>13.2</td>\n",
              "      <td>236</td>\n",
              "      <td>58</td>\n",
              "      <td>21.2</td>\n",
              "    </tr>\n",
              "    <tr>\n",
              "      <th>Alaska</th>\n",
              "      <td>10.0</td>\n",
              "      <td>263</td>\n",
              "      <td>48</td>\n",
              "      <td>44.5</td>\n",
              "    </tr>\n",
              "    <tr>\n",
              "      <th>Arizona</th>\n",
              "      <td>8.1</td>\n",
              "      <td>294</td>\n",
              "      <td>80</td>\n",
              "      <td>31.0</td>\n",
              "    </tr>\n",
              "    <tr>\n",
              "      <th>Arkansas</th>\n",
              "      <td>8.8</td>\n",
              "      <td>190</td>\n",
              "      <td>50</td>\n",
              "      <td>19.5</td>\n",
              "    </tr>\n",
              "    <tr>\n",
              "      <th>California</th>\n",
              "      <td>9.0</td>\n",
              "      <td>276</td>\n",
              "      <td>91</td>\n",
              "      <td>40.6</td>\n",
              "    </tr>\n",
              "    <tr>\n",
              "      <th>Colorado</th>\n",
              "      <td>7.9</td>\n",
              "      <td>204</td>\n",
              "      <td>78</td>\n",
              "      <td>38.7</td>\n",
              "    </tr>\n",
              "    <tr>\n",
              "      <th>Connecticut</th>\n",
              "      <td>3.3</td>\n",
              "      <td>110</td>\n",
              "      <td>77</td>\n",
              "      <td>11.1</td>\n",
              "    </tr>\n",
              "    <tr>\n",
              "      <th>Delaware</th>\n",
              "      <td>5.9</td>\n",
              "      <td>238</td>\n",
              "      <td>72</td>\n",
              "      <td>15.8</td>\n",
              "    </tr>\n",
              "    <tr>\n",
              "      <th>Florida</th>\n",
              "      <td>15.4</td>\n",
              "      <td>335</td>\n",
              "      <td>80</td>\n",
              "      <td>31.9</td>\n",
              "    </tr>\n",
              "    <tr>\n",
              "      <th>Georgia</th>\n",
              "      <td>17.4</td>\n",
              "      <td>211</td>\n",
              "      <td>60</td>\n",
              "      <td>25.8</td>\n",
              "    </tr>\n",
              "    <tr>\n",
              "      <th>Hawaii</th>\n",
              "      <td>5.3</td>\n",
              "      <td>46</td>\n",
              "      <td>83</td>\n",
              "      <td>20.2</td>\n",
              "    </tr>\n",
              "    <tr>\n",
              "      <th>Idaho</th>\n",
              "      <td>2.6</td>\n",
              "      <td>120</td>\n",
              "      <td>54</td>\n",
              "      <td>14.2</td>\n",
              "    </tr>\n",
              "    <tr>\n",
              "      <th>Illinois</th>\n",
              "      <td>10.4</td>\n",
              "      <td>249</td>\n",
              "      <td>83</td>\n",
              "      <td>24.0</td>\n",
              "    </tr>\n",
              "    <tr>\n",
              "      <th>Indiana</th>\n",
              "      <td>7.2</td>\n",
              "      <td>113</td>\n",
              "      <td>65</td>\n",
              "      <td>21.0</td>\n",
              "    </tr>\n",
              "    <tr>\n",
              "      <th>Iowa</th>\n",
              "      <td>2.2</td>\n",
              "      <td>56</td>\n",
              "      <td>57</td>\n",
              "      <td>11.3</td>\n",
              "    </tr>\n",
              "    <tr>\n",
              "      <th>Kansas</th>\n",
              "      <td>6.0</td>\n",
              "      <td>115</td>\n",
              "      <td>66</td>\n",
              "      <td>18.0</td>\n",
              "    </tr>\n",
              "    <tr>\n",
              "      <th>Kentucky</th>\n",
              "      <td>9.7</td>\n",
              "      <td>109</td>\n",
              "      <td>52</td>\n",
              "      <td>16.3</td>\n",
              "    </tr>\n",
              "    <tr>\n",
              "      <th>Louisiana</th>\n",
              "      <td>15.4</td>\n",
              "      <td>249</td>\n",
              "      <td>66</td>\n",
              "      <td>22.2</td>\n",
              "    </tr>\n",
              "    <tr>\n",
              "      <th>Maine</th>\n",
              "      <td>2.1</td>\n",
              "      <td>83</td>\n",
              "      <td>51</td>\n",
              "      <td>7.8</td>\n",
              "    </tr>\n",
              "    <tr>\n",
              "      <th>Maryland</th>\n",
              "      <td>11.3</td>\n",
              "      <td>300</td>\n",
              "      <td>67</td>\n",
              "      <td>27.8</td>\n",
              "    </tr>\n",
              "    <tr>\n",
              "      <th>Massachusetts</th>\n",
              "      <td>4.4</td>\n",
              "      <td>149</td>\n",
              "      <td>85</td>\n",
              "      <td>16.3</td>\n",
              "    </tr>\n",
              "    <tr>\n",
              "      <th>Michigan</th>\n",
              "      <td>12.1</td>\n",
              "      <td>255</td>\n",
              "      <td>74</td>\n",
              "      <td>35.1</td>\n",
              "    </tr>\n",
              "    <tr>\n",
              "      <th>Minnesota</th>\n",
              "      <td>2.7</td>\n",
              "      <td>72</td>\n",
              "      <td>66</td>\n",
              "      <td>14.9</td>\n",
              "    </tr>\n",
              "    <tr>\n",
              "      <th>Mississippi</th>\n",
              "      <td>16.1</td>\n",
              "      <td>259</td>\n",
              "      <td>44</td>\n",
              "      <td>17.1</td>\n",
              "    </tr>\n",
              "    <tr>\n",
              "      <th>Missouri</th>\n",
              "      <td>9.0</td>\n",
              "      <td>178</td>\n",
              "      <td>70</td>\n",
              "      <td>28.2</td>\n",
              "    </tr>\n",
              "    <tr>\n",
              "      <th>Montana</th>\n",
              "      <td>6.0</td>\n",
              "      <td>109</td>\n",
              "      <td>53</td>\n",
              "      <td>16.4</td>\n",
              "    </tr>\n",
              "    <tr>\n",
              "      <th>Nebraska</th>\n",
              "      <td>4.3</td>\n",
              "      <td>102</td>\n",
              "      <td>62</td>\n",
              "      <td>16.5</td>\n",
              "    </tr>\n",
              "    <tr>\n",
              "      <th>Nevada</th>\n",
              "      <td>12.2</td>\n",
              "      <td>252</td>\n",
              "      <td>81</td>\n",
              "      <td>46.0</td>\n",
              "    </tr>\n",
              "    <tr>\n",
              "      <th>New Hampshire</th>\n",
              "      <td>2.1</td>\n",
              "      <td>57</td>\n",
              "      <td>56</td>\n",
              "      <td>9.5</td>\n",
              "    </tr>\n",
              "    <tr>\n",
              "      <th>New Jersey</th>\n",
              "      <td>7.4</td>\n",
              "      <td>159</td>\n",
              "      <td>89</td>\n",
              "      <td>18.8</td>\n",
              "    </tr>\n",
              "    <tr>\n",
              "      <th>New Mexico</th>\n",
              "      <td>11.4</td>\n",
              "      <td>285</td>\n",
              "      <td>70</td>\n",
              "      <td>32.1</td>\n",
              "    </tr>\n",
              "    <tr>\n",
              "      <th>New York</th>\n",
              "      <td>11.1</td>\n",
              "      <td>254</td>\n",
              "      <td>86</td>\n",
              "      <td>26.1</td>\n",
              "    </tr>\n",
              "    <tr>\n",
              "      <th>North Carolina</th>\n",
              "      <td>13.0</td>\n",
              "      <td>337</td>\n",
              "      <td>45</td>\n",
              "      <td>16.1</td>\n",
              "    </tr>\n",
              "    <tr>\n",
              "      <th>North Dakota</th>\n",
              "      <td>0.8</td>\n",
              "      <td>45</td>\n",
              "      <td>44</td>\n",
              "      <td>7.3</td>\n",
              "    </tr>\n",
              "    <tr>\n",
              "      <th>Ohio</th>\n",
              "      <td>7.3</td>\n",
              "      <td>120</td>\n",
              "      <td>75</td>\n",
              "      <td>21.4</td>\n",
              "    </tr>\n",
              "    <tr>\n",
              "      <th>Oklahoma</th>\n",
              "      <td>6.6</td>\n",
              "      <td>151</td>\n",
              "      <td>68</td>\n",
              "      <td>20.0</td>\n",
              "    </tr>\n",
              "    <tr>\n",
              "      <th>Oregon</th>\n",
              "      <td>4.9</td>\n",
              "      <td>159</td>\n",
              "      <td>67</td>\n",
              "      <td>29.3</td>\n",
              "    </tr>\n",
              "    <tr>\n",
              "      <th>Pennsylvania</th>\n",
              "      <td>6.3</td>\n",
              "      <td>106</td>\n",
              "      <td>72</td>\n",
              "      <td>14.9</td>\n",
              "    </tr>\n",
              "    <tr>\n",
              "      <th>Rhode Island</th>\n",
              "      <td>3.4</td>\n",
              "      <td>174</td>\n",
              "      <td>87</td>\n",
              "      <td>8.3</td>\n",
              "    </tr>\n",
              "    <tr>\n",
              "      <th>South Carolina</th>\n",
              "      <td>14.4</td>\n",
              "      <td>279</td>\n",
              "      <td>48</td>\n",
              "      <td>22.5</td>\n",
              "    </tr>\n",
              "    <tr>\n",
              "      <th>South Dakota</th>\n",
              "      <td>3.8</td>\n",
              "      <td>86</td>\n",
              "      <td>45</td>\n",
              "      <td>12.8</td>\n",
              "    </tr>\n",
              "    <tr>\n",
              "      <th>Tennessee</th>\n",
              "      <td>13.2</td>\n",
              "      <td>188</td>\n",
              "      <td>59</td>\n",
              "      <td>26.9</td>\n",
              "    </tr>\n",
              "    <tr>\n",
              "      <th>Texas</th>\n",
              "      <td>12.7</td>\n",
              "      <td>201</td>\n",
              "      <td>80</td>\n",
              "      <td>25.5</td>\n",
              "    </tr>\n",
              "    <tr>\n",
              "      <th>Utah</th>\n",
              "      <td>3.2</td>\n",
              "      <td>120</td>\n",
              "      <td>80</td>\n",
              "      <td>22.9</td>\n",
              "    </tr>\n",
              "    <tr>\n",
              "      <th>Vermont</th>\n",
              "      <td>2.2</td>\n",
              "      <td>48</td>\n",
              "      <td>32</td>\n",
              "      <td>11.2</td>\n",
              "    </tr>\n",
              "    <tr>\n",
              "      <th>Virginia</th>\n",
              "      <td>8.5</td>\n",
              "      <td>156</td>\n",
              "      <td>63</td>\n",
              "      <td>20.7</td>\n",
              "    </tr>\n",
              "    <tr>\n",
              "      <th>Washington</th>\n",
              "      <td>4.0</td>\n",
              "      <td>145</td>\n",
              "      <td>73</td>\n",
              "      <td>26.2</td>\n",
              "    </tr>\n",
              "    <tr>\n",
              "      <th>West Virginia</th>\n",
              "      <td>5.7</td>\n",
              "      <td>81</td>\n",
              "      <td>39</td>\n",
              "      <td>9.3</td>\n",
              "    </tr>\n",
              "    <tr>\n",
              "      <th>Wisconsin</th>\n",
              "      <td>2.6</td>\n",
              "      <td>53</td>\n",
              "      <td>66</td>\n",
              "      <td>10.8</td>\n",
              "    </tr>\n",
              "    <tr>\n",
              "      <th>Wyoming</th>\n",
              "      <td>6.8</td>\n",
              "      <td>161</td>\n",
              "      <td>60</td>\n",
              "      <td>15.6</td>\n",
              "    </tr>\n",
              "  </tbody>\n",
              "</table>\n",
              "</div>"
            ],
            "text/plain": [
              "                Murder  Assault  UrbanPop  Rape\n",
              "Unnamed: 0                                     \n",
              "Alabama           13.2      236        58  21.2\n",
              "Alaska            10.0      263        48  44.5\n",
              "Arizona            8.1      294        80  31.0\n",
              "Arkansas           8.8      190        50  19.5\n",
              "California         9.0      276        91  40.6\n",
              "Colorado           7.9      204        78  38.7\n",
              "Connecticut        3.3      110        77  11.1\n",
              "Delaware           5.9      238        72  15.8\n",
              "Florida           15.4      335        80  31.9\n",
              "Georgia           17.4      211        60  25.8\n",
              "Hawaii             5.3       46        83  20.2\n",
              "Idaho              2.6      120        54  14.2\n",
              "Illinois          10.4      249        83  24.0\n",
              "Indiana            7.2      113        65  21.0\n",
              "Iowa               2.2       56        57  11.3\n",
              "Kansas             6.0      115        66  18.0\n",
              "Kentucky           9.7      109        52  16.3\n",
              "Louisiana         15.4      249        66  22.2\n",
              "Maine              2.1       83        51   7.8\n",
              "Maryland          11.3      300        67  27.8\n",
              "Massachusetts      4.4      149        85  16.3\n",
              "Michigan          12.1      255        74  35.1\n",
              "Minnesota          2.7       72        66  14.9\n",
              "Mississippi       16.1      259        44  17.1\n",
              "Missouri           9.0      178        70  28.2\n",
              "Montana            6.0      109        53  16.4\n",
              "Nebraska           4.3      102        62  16.5\n",
              "Nevada            12.2      252        81  46.0\n",
              "New Hampshire      2.1       57        56   9.5\n",
              "New Jersey         7.4      159        89  18.8\n",
              "New Mexico        11.4      285        70  32.1\n",
              "New York          11.1      254        86  26.1\n",
              "North Carolina    13.0      337        45  16.1\n",
              "North Dakota       0.8       45        44   7.3\n",
              "Ohio               7.3      120        75  21.4\n",
              "Oklahoma           6.6      151        68  20.0\n",
              "Oregon             4.9      159        67  29.3\n",
              "Pennsylvania       6.3      106        72  14.9\n",
              "Rhode Island       3.4      174        87   8.3\n",
              "South Carolina    14.4      279        48  22.5\n",
              "South Dakota       3.8       86        45  12.8\n",
              "Tennessee         13.2      188        59  26.9\n",
              "Texas             12.7      201        80  25.5\n",
              "Utah               3.2      120        80  22.9\n",
              "Vermont            2.2       48        32  11.2\n",
              "Virginia           8.5      156        63  20.7\n",
              "Washington         4.0      145        73  26.2\n",
              "West Virginia      5.7       81        39   9.3\n",
              "Wisconsin          2.6       53        66  10.8\n",
              "Wyoming            6.8      161        60  15.6"
            ]
          },
          "execution_count": 27,
          "metadata": {},
          "output_type": "execute_result"
        }
      ],
      "source": [
        "usa"
      ]
    },
    {
      "cell_type": "code",
      "execution_count": null,
      "id": "02226288",
      "metadata": {
        "id": "02226288"
      },
      "outputs": [],
      "source": [
        "from sklearn.preprocessing import StandardScaler\n",
        "x=StandardScaler().fit_transform(usa)"
      ]
    },
    {
      "cell_type": "code",
      "execution_count": null,
      "id": "8fbe516f",
      "metadata": {
        "id": "8fbe516f"
      },
      "outputs": [],
      "source": [
        "from sklearn.decomposition import PCA"
      ]
    },
    {
      "cell_type": "code",
      "execution_count": null,
      "id": "ad0e5b92",
      "metadata": {
        "id": "ad0e5b92",
        "outputId": "0f73793b-4698-426a-b6ab-a91721892099"
      },
      "outputs": [
        {
          "data": {
            "text/plain": [
              "PCA(n_components=4)"
            ]
          },
          "execution_count": 31,
          "metadata": {},
          "output_type": "execute_result"
        }
      ],
      "source": [
        "pca_usa=PCA(n_components=len(usa.columns))\n",
        "pca_usa.fit(x)"
      ]
    },
    {
      "cell_type": "code",
      "execution_count": null,
      "id": "22632d91",
      "metadata": {
        "id": "22632d91",
        "outputId": "6982c6c9-bfaf-498d-8184-487390edb1f1"
      },
      "outputs": [
        {
          "data": {
            "text/plain": [
              "array([2.53085875, 1.00996444, 0.36383998, 0.17696948])"
            ]
          },
          "execution_count": 32,
          "metadata": {},
          "output_type": "execute_result"
        }
      ],
      "source": [
        "pca_usa.explained_variance_ # 주성분을 1이상인 2개를 뽑을 수 있다."
      ]
    },
    {
      "cell_type": "code",
      "execution_count": null,
      "id": "f4942b25",
      "metadata": {
        "id": "f4942b25",
        "outputId": "07234886-1c3c-4c46-f64b-5b57df85b49a"
      },
      "outputs": [
        {
          "data": {
            "image/png": "[encoded data removed]",
            "text/plain": [
              "<Figure size 432x288 with 1 Axes>"
            ]
          },
          "metadata": {
            "needs_background": "light"
          },
          "output_type": "display_data"
        }
      ],
      "source": [
        "plt.title('Scree Plot')\n",
        "plt.plot(pca_usa.explained_variance_,'^-')\n",
        "plt.show()\n",
        "# 1이상인 것으로 보이는 두가지를 뽑아야 겠다."
      ]
    },
    {
      "cell_type": "code",
      "execution_count": null,
      "id": "4684f3d0",
      "metadata": {
        "scrolled": true,
        "id": "4684f3d0",
        "outputId": "50624e03-d0de-4761-a4cc-38c64fa2350b"
      },
      "outputs": [
        {
          "data": {
            "text/plain": [
              "array([[ 0.98556588,  1.13339238],\n",
              "       [ 1.95013775,  1.07321326],\n",
              "       [ 1.76316354, -0.74595678],\n",
              "       [-0.14142029,  1.11979678],\n",
              "       [ 2.52398013, -1.54293399],\n",
              "       [ 1.51456286, -0.98755509],\n",
              "       [-1.35864746, -1.08892789],\n",
              "       [ 0.04770931, -0.32535892],\n",
              "       [ 3.01304227,  0.03922851],\n",
              "       [ 1.63928304,  1.2789424 ],\n",
              "       [-0.91265715, -1.57046001],\n",
              "       [-1.63979985,  0.21097292],\n",
              "       [ 1.37891072, -0.68184119],\n",
              "       [-0.50546136, -0.15156254],\n",
              "       [-2.25364607, -0.10405407],\n",
              "       [-0.79688112, -0.2701647 ],\n",
              "       [-0.75085907,  0.95844029],\n",
              "       [ 1.56481798,  0.87105466],\n",
              "       [-2.39682949,  0.37639158],\n",
              "       [ 1.76336939,  0.42765519],\n",
              "       [-0.48616629, -1.4744965 ],\n",
              "       [ 2.10844115, -0.15539682],\n",
              "       [-1.69268181, -0.63226125],\n",
              "       [ 0.99649446,  2.39379599],\n",
              "       [ 0.69678733, -0.26335479],\n",
              "       [-1.18545191,  0.53687437],\n",
              "       [-1.26563654, -0.19395373],\n",
              "       [ 2.87439454, -0.7756002 ],\n",
              "       [-2.38391541, -0.01808229],\n",
              "       [ 0.18156611, -1.44950571],\n",
              "       [ 1.98002375,  0.14284878],\n",
              "       [ 1.68257738, -0.82318414],\n",
              "       [ 1.12337861,  2.22800338],\n",
              "       [-2.99222562,  0.59911882],\n",
              "       [-0.22596542, -0.74223824],\n",
              "       [-0.31178286, -0.28785421],\n",
              "       [ 0.05912208, -0.54141145],\n",
              "       [-0.88841582, -0.57110035],\n",
              "       [-0.86377206, -1.49197842],\n",
              "       [ 1.3207238 ,  1.93340466],\n",
              "       [-1.98777484,  0.82334324],\n",
              "       [ 0.99974168,  0.8602513 ],\n",
              "       [ 1.35513821, -0.41248082],\n",
              "       [-0.55056526, -1.47150461],\n",
              "       [-2.80141174,  1.40228806],\n",
              "       [-0.09633491,  0.19973529],\n",
              "       [-0.21690338, -0.97012418],\n",
              "       [-2.10858541,  1.4248467 ],\n",
              "       [-2.07971417, -0.61126862],\n",
              "       [-0.62942666,  0.32101297]])"
            ]
          },
          "execution_count": 35,
          "metadata": {},
          "output_type": "execute_result"
        }
      ],
      "source": [
        "pca_usa=PCA(n_components=2)\n",
        "pca_usa.fit_transform(x)"
      ]
    },
    {
      "cell_type": "code",
      "execution_count": null,
      "id": "52485ad1",
      "metadata": {
        "id": "52485ad1",
        "outputId": "4d259281-02b8-41ec-dba1-801977e9be2a"
      },
      "outputs": [
        {
          "data": {
            "text/plain": [
              "array([2.53085875, 1.00996444])"
            ]
          },
          "execution_count": 36,
          "metadata": {},
          "output_type": "execute_result"
        }
      ],
      "source": [
        "pca_usa.explained_variance_"
      ]
    },
    {
      "cell_type": "code",
      "execution_count": null,
      "id": "e672a112",
      "metadata": {
        "id": "e672a112",
        "outputId": "625c0d88-e2f4-4b17-a156-5939b76426a6"
      },
      "outputs": [
        {
          "data": {
            "text/plain": [
              "array([0.62006039, 0.24744129])"
            ]
          },
          "execution_count": 37,
          "metadata": {},
          "output_type": "execute_result"
        }
      ],
      "source": [
        "pca_usa.explained_variance_ratio_"
      ]
    },
    {
      "cell_type": "code",
      "execution_count": null,
      "id": "1aa38eba",
      "metadata": {
        "id": "1aa38eba",
        "outputId": "89264e74-9f96-46f6-c994-32bd087e05ae"
      },
      "outputs": [
        {
          "data": {
            "text/plain": [
              "array([[ 0.536,  0.583,  0.278,  0.543],\n",
              "       [ 0.418,  0.188, -0.873, -0.167]])"
            ]
          },
          "execution_count": 38,
          "metadata": {},
          "output_type": "execute_result"
        }
      ],
      "source": [
        "np.round(pca_usa.components_,3)"
      ]
    },
    {
      "cell_type": "code",
      "execution_count": null,
      "id": "2cfacec0",
      "metadata": {
        "id": "2cfacec0",
        "outputId": "ec53f9bb-d17c-480a-f7d7-8c9de0e396d9"
      },
      "outputs": [
        {
          "data": {
            "text/plain": [
              "PCA(n_components=2)"
            ]
          },
          "execution_count": 41,
          "metadata": {},
          "output_type": "execute_result"
        }
      ],
      "source": [
        "pca_usa"
      ]
    },
    {
      "cell_type": "code",
      "execution_count": null,
      "id": "9a39a640",
      "metadata": {
        "id": "9a39a640"
      },
      "outputs": [],
      "source": [
        ""
      ]
    },
    {
      "cell_type": "code",
      "execution_count": null,
      "id": "0a903229",
      "metadata": {
        "id": "0a903229"
      },
      "outputs": [],
      "source": [
        ""
      ]
    }
  ],
  "metadata": {
    "kernelspec": {
      "display_name": "Python 3",
      "language": "python",
      "name": "python3"
    },
    "language_info": {
      "codemirror_mode": {
        "name": "ipython",
        "version": 3
      },
      "file_extension": ".py",
      "mimetype": "text/x-python",
      "name": "python",
      "nbconvert_exporter": "python",
      "pygments_lexer": "ipython3",
      "version": "3.8.8"
    },
    "colab": {
      "name": "Pca_report.ipynb",
      "provenance": [],
      "include_colab_link": true
    }
  },
  "nbformat": 4,
  "nbformat_minor": 5
}
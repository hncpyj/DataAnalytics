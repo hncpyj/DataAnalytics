{
 "cells": [
  {
   "cell_type": "code",
   "execution_count": 1,
   "id": "ee1a9294",
   "metadata": {},
   "outputs": [
    {
     "data": {
      "text/plain": [
       "5"
      ]
     },
     "execution_count": 1,
     "metadata": {},
     "output_type": "execute_result"
    }
   ],
   "source": [
    "2+3"
   ]
  },
  {
   "cell_type": "markdown",
   "id": "34fe7ba6",
   "metadata": {},
   "source": [
    "# 수업시작한날\n",
    "변수, 함수, 클래스 ..\n",
    "이런게 있는데 코드를 쓰면 RAM으로 가고 -> cpu -> 처리 ... 이런식으로 작업이 많은데<br>\n",
    "어떻게 하면 효율적으로 자원을 활용할 수 있을지 항상 생각하면서 하세요\n",
    "\n"
   ]
  },
  {
   "cell_type": "markdown",
   "id": "18ef9e93",
   "metadata": {},
   "source": [
    "## Python\n"
   ]
  },
  {
   "cell_type": "code",
   "execution_count": 13,
   "id": "6ce6057c",
   "metadata": {},
   "outputs": [
    {
     "name": "stdout",
     "output_type": "stream",
     "text": [
      "range(0, 5)\n"
     ]
    },
    {
     "data": {
      "text/plain": [
       "[0, 1, 2, 3, 4]"
      ]
     },
     "execution_count": 13,
     "metadata": {},
     "output_type": "execute_result"
    }
   ],
   "source": [
    "a=[0, 1, 2, 3, 4]\n",
    "b=list(range(5))\n",
    "print(range(0,5))\n",
    "list(range(1,5))\n",
    "b\n",
    "#out은 마지막 변수가 출력된다"
   ]
  },
  {
   "cell_type": "code",
   "execution_count": 19,
   "id": "3f063fe1",
   "metadata": {},
   "outputs": [
    {
     "name": "stdout",
     "output_type": "stream",
     "text": [
      "Hello world\n",
      "123\n"
     ]
    }
   ],
   "source": [
    "#두 가지 이상 쓰고 싶으면 줄바꿈을 하거나 한 줄이면 ;표시를 붙여줘야 한다.\n",
    "print(\"Hello world\"); print(\"123\")"
   ]
  },
  {
   "cell_type": "code",
   "execution_count": 20,
   "id": "238ce6e1",
   "metadata": {},
   "outputs": [
    {
     "name": "stdout",
     "output_type": "stream",
     "text": [
      "2 1\n"
     ]
    }
   ],
   "source": [
    "#변수\n",
    "a=1\n",
    "b=2\n",
    "a, b = b, a\n",
    "\n",
    "print(a,b)"
   ]
  },
  {
   "cell_type": "code",
   "execution_count": 21,
   "id": "e5148ad3",
   "metadata": {},
   "outputs": [
    {
     "name": "stdout",
     "output_type": "stream",
     "text": [
      "1 2 3\n"
     ]
    }
   ],
   "source": [
    "x, y, z=1, 2, 3\n",
    "print(x,y,z)"
   ]
  },
  {
   "cell_type": "code",
   "execution_count": 23,
   "id": "4e19bbe7",
   "metadata": {},
   "outputs": [
    {
     "ename": "NameError",
     "evalue": "name 'aEb' is not defined",
     "output_type": "error",
     "traceback": [
      "\u001b[0;31m---------------------------------------------------------------------------\u001b[0m",
      "\u001b[0;31mNameError\u001b[0m                                 Traceback (most recent call last)",
      "\u001b[0;32m<ipython-input-23-510c889eaa91>\u001b[0m in \u001b[0;36m<module>\u001b[0;34m\u001b[0m\n\u001b[1;32m      1\u001b[0m \u001b[0;31m#n진법\u001b[0m\u001b[0;34m\u001b[0m\u001b[0;34m\u001b[0m\u001b[0;34m\u001b[0m\u001b[0m\n\u001b[1;32m      2\u001b[0m \u001b[0;31m#aEb : a*10의 b승\u001b[0m\u001b[0;34m\u001b[0m\u001b[0;34m\u001b[0m\u001b[0;34m\u001b[0m\u001b[0m\n\u001b[0;32m----> 3\u001b[0;31m \u001b[0mprint\u001b[0m\u001b[0;34m(\u001b[0m\u001b[0maEb\u001b[0m\u001b[0;34m)\u001b[0m\u001b[0;34m\u001b[0m\u001b[0;34m\u001b[0m\u001b[0m\n\u001b[0m",
      "\u001b[0;31mNameError\u001b[0m: name 'aEb' is not defined"
     ]
    }
   ],
   "source": [
    "#n진법\n",
    "#aEb : a* 10의 b승\n",
    "#0o17 : 8진수인 17을 10진수로 바꾼다.\n",
    "#OxA : 16진수인 A를 10진수로 표현합니다.\n"
   ]
  },
  {
   "cell_type": "code",
   "execution_count": 24,
   "id": "702eff2d",
   "metadata": {},
   "outputs": [
    {
     "name": "stdout",
     "output_type": "stream",
     "text": [
      "15\n"
     ]
    }
   ],
   "source": [
    "x=0o17\n",
    "print(x)"
   ]
  },
  {
   "cell_type": "code",
   "execution_count": 32,
   "id": "783ab953",
   "metadata": {},
   "outputs": [
    {
     "data": {
      "text/plain": [
       "(2, 1)"
      ]
     },
     "execution_count": 32,
     "metadata": {},
     "output_type": "execute_result"
    }
   ],
   "source": [
    "#나눗셈\n",
    "a, b = 5, 2\n",
    "c = a // b # 몫만 출력 & 타입은 유지 (둘중 하나만 Float이어도 float type 유지)\n",
    "c = a ** b # a의 b승\n",
    "c = a % b # 나머지만 출력\n",
    "c = a / b # 그냥 나눗셈\n",
    "c = divmod(a,b) #몫과 나머지를 (c,d) 표시 divmod(a,b)[1] 이런식으로 배열 사용도 가능\n",
    "c"
   ]
  },
  {
   "cell_type": "code",
   "execution_count": 36,
   "id": "983e15eb",
   "metadata": {},
   "outputs": [
    {
     "data": {
      "text/plain": [
       "int"
      ]
     },
     "execution_count": 36,
     "metadata": {},
     "output_type": "execute_result"
    }
   ],
   "source": [
    "a=\"5\"\n",
    "b = int(a)\n",
    "type(a)\n",
    "type(b)"
   ]
  },
  {
   "cell_type": "code",
   "execution_count": 38,
   "id": "95354628",
   "metadata": {},
   "outputs": [],
   "source": [
    "#list 등의 delete와는 다르게 string del : 변수 삭제\n",
    "del a"
   ]
  },
  {
   "cell_type": "code",
   "execution_count": 39,
   "id": "bea4ed31",
   "metadata": {},
   "outputs": [
    {
     "ename": "NameError",
     "evalue": "name 'a' is not defined",
     "output_type": "error",
     "traceback": [
      "\u001b[0;31m---------------------------------------------------------------------------\u001b[0m",
      "\u001b[0;31mNameError\u001b[0m                                 Traceback (most recent call last)",
      "\u001b[0;32m<ipython-input-39-3f786850e387>\u001b[0m in \u001b[0;36m<module>\u001b[0;34m\u001b[0m\n\u001b[0;32m----> 1\u001b[0;31m \u001b[0ma\u001b[0m\u001b[0;34m\u001b[0m\u001b[0;34m\u001b[0m\u001b[0m\n\u001b[0m",
      "\u001b[0;31mNameError\u001b[0m: name 'a' is not defined"
     ]
    }
   ],
   "source": [
    "a"
   ]
  },
  {
   "cell_type": "code",
   "execution_count": 40,
   "id": "eb1fbe7f",
   "metadata": {},
   "outputs": [],
   "source": [
    "Null = None"
   ]
  },
  {
   "cell_type": "code",
   "execution_count": 43,
   "id": "5976f579",
   "metadata": {},
   "outputs": [
    {
     "name": "stdout",
     "output_type": "stream",
     "text": [
      "Lifeisgood\n"
     ]
    }
   ],
   "source": [
    "i = input()"
   ]
  },
  {
   "cell_type": "code",
   "execution_count": 48,
   "id": "8224ade2",
   "metadata": {},
   "outputs": [
    {
     "data": {
      "text/plain": [
       "['L', 'fe', 'sgood']"
      ]
     },
     "execution_count": 48,
     "metadata": {},
     "output_type": "execute_result"
    }
   ],
   "source": [
    "#list로 분리시켜준다, 해당 기준은 빠진다\n",
    "#i.split('i')\n",
    "i.split('i')"
   ]
  },
  {
   "cell_type": "code",
   "execution_count": 46,
   "id": "8ddcabfb",
   "metadata": {},
   "outputs": [
    {
     "name": "stdout",
     "output_type": "stream",
     "text": [
      "Life is good\n"
     ]
    }
   ],
   "source": [
    "j = input()"
   ]
  },
  {
   "cell_type": "code",
   "execution_count": 49,
   "id": "ff924f90",
   "metadata": {},
   "outputs": [
    {
     "data": {
      "text/plain": [
       "['Life', 'is', 'good']"
      ]
     },
     "execution_count": 49,
     "metadata": {},
     "output_type": "execute_result"
    }
   ],
   "source": [
    "j.split('') #''안써도됨\n",
    "j.split()"
   ]
  },
  {
   "cell_type": "code",
   "execution_count": 54,
   "id": "34c9d31d",
   "metadata": {},
   "outputs": [
    {
     "data": {
      "text/plain": [
       "'라마바가나'"
      ]
     },
     "execution_count": 54,
     "metadata": {},
     "output_type": "execute_result"
    }
   ],
   "source": [
    "a='가나다라마가나다라마바가나'\n",
    "a.split('가나다')[2]"
   ]
  },
  {
   "cell_type": "code",
   "execution_count": 56,
   "id": "1121a620",
   "metadata": {},
   "outputs": [
    {
     "name": "stdout",
     "output_type": "stream",
     "text": [
      "hi\n",
      "is\n",
      "good\n",
      "\n"
     ]
    }
   ],
   "source": [
    "#따옴표갯수 3개일 때\n",
    "x = \"\"\"hi\n",
    "is\n",
    "good\n",
    "\"\"\"\n",
    "x #줄바꿈표시로 한줄로띄워준다\n",
    "print(x) #줄바꿔서 출력해준다"
   ]
  },
  {
   "cell_type": "code",
   "execution_count": 57,
   "id": "f326e18f",
   "metadata": {},
   "outputs": [
    {
     "ename": "SyntaxError",
     "evalue": "EOL while scanning string literal (<ipython-input-57-a8dd8f63cb44>, line 1)",
     "output_type": "error",
     "traceback": [
      "\u001b[0;36m  File \u001b[0;32m\"<ipython-input-57-a8dd8f63cb44>\"\u001b[0;36m, line \u001b[0;32m1\u001b[0m\n\u001b[0;31m    x=\"hi\u001b[0m\n\u001b[0m         ^\u001b[0m\n\u001b[0;31mSyntaxError\u001b[0m\u001b[0;31m:\u001b[0m EOL while scanning string literal\n"
     ]
    }
   ],
   "source": [
    "#따옴표 갯수 1개일 때\n",
    "x=\"hi\n",
    "i\n",
    "life\"\n",
    "x"
   ]
  },
  {
   "cell_type": "code",
   "execution_count": 59,
   "id": "13306e7f",
   "metadata": {},
   "outputs": [
    {
     "data": {
      "text/plain": [
       "'i\"mgood\"'"
      ]
     },
     "execution_count": 59,
     "metadata": {},
     "output_type": "execute_result"
    }
   ],
   "source": [
    "x= 'i\"mgood\"'\n",
    "x"
   ]
  },
  {
   "cell_type": "code",
   "execution_count": 65,
   "id": "af42afbe",
   "metadata": {},
   "outputs": [],
   "source": [
    "del a"
   ]
  },
  {
   "cell_type": "code",
   "execution_count": 69,
   "id": "099b66a2",
   "metadata": {},
   "outputs": [
    {
     "data": {
      "text/plain": [
       "5"
      ]
     },
     "execution_count": 69,
     "metadata": {},
     "output_type": "execute_result"
    }
   ],
   "source": [
    "a=\"apple\"\n",
    "len(a) #문자열의 길이\n",
    "# a[3] #인덱스값을 이용한 value 추출"
   ]
  },
  {
   "cell_type": "code",
   "execution_count": 76,
   "id": "52713007",
   "metadata": {},
   "outputs": [
    {
     "data": {
      "text/plain": [
       "'elppa'"
      ]
     },
     "execution_count": 76,
     "metadata": {},
     "output_type": "execute_result"
    }
   ],
   "source": [
    "a[5-2]\n",
    "a[-1]\n",
    "a[0:3] #범위 +1\n",
    "a[0:5:2] #3번째는 단위를 의미 [시작:끝+1:건너뛸단위]\n",
    "a[::-1] #마지막만 -1로 두면 역순으로 출력\n",
    "#python에는 배열이 없고 list가 있다 배열과 다르다 \n",
    "#array=[int, int] - Numpy"
   ]
  },
  {
   "cell_type": "code",
   "execution_count": 77,
   "id": "6be73db4",
   "metadata": {},
   "outputs": [
    {
     "name": "stdout",
     "output_type": "stream",
     "text": [
      "1-2-3-4\n"
     ]
    }
   ],
   "source": [
    "print(1, 2, 3, 4,sep='-')"
   ]
  },
  {
   "cell_type": "code",
   "execution_count": 78,
   "id": "19b49cda",
   "metadata": {},
   "outputs": [
    {
     "name": "stdout",
     "output_type": "stream",
     "text": [
      "123\n"
     ]
    }
   ],
   "source": [
    "a=input()"
   ]
  },
  {
   "cell_type": "code",
   "execution_count": 84,
   "id": "7997ce03",
   "metadata": {},
   "outputs": [
    {
     "data": {
      "text/plain": [
       "'123'"
      ]
     },
     "execution_count": 84,
     "metadata": {},
     "output_type": "execute_result"
    }
   ],
   "source": [
    "type(a)\n",
    "a.split\n",
    "a"
   ]
  },
  {
   "cell_type": "code",
   "execution_count": 87,
   "id": "03a2d740",
   "metadata": {},
   "outputs": [
    {
     "name": "stdout",
     "output_type": "stream",
     "text": [
      "123\n"
     ]
    }
   ],
   "source": [
    "a=map(int, input().split())"
   ]
  },
  {
   "cell_type": "code",
   "execution_count": 89,
   "id": "c73aa8d4",
   "metadata": {},
   "outputs": [
    {
     "data": {
      "text/plain": [
       "map"
      ]
     },
     "execution_count": 89,
     "metadata": {},
     "output_type": "execute_result"
    }
   ],
   "source": [
    "#나뉜 것을 한번에 출력하려고 하면 맵으로 출력\n",
    "\n",
    "type(a)"
   ]
  },
  {
   "cell_type": "code",
   "execution_count": 90,
   "id": "aef361f3",
   "metadata": {},
   "outputs": [
    {
     "name": "stdout",
     "output_type": "stream",
     "text": [
      "12 34\n"
     ]
    }
   ],
   "source": [
    "#a, b 나눠서 할당된다.\n",
    "a, b=map(int, input().split())"
   ]
  },
  {
   "cell_type": "code",
   "execution_count": 91,
   "id": "6f6aab5f",
   "metadata": {},
   "outputs": [
    {
     "data": {
      "text/plain": [
       "12"
      ]
     },
     "execution_count": 91,
     "metadata": {},
     "output_type": "execute_result"
    }
   ],
   "source": [
    "a"
   ]
  },
  {
   "cell_type": "code",
   "execution_count": 92,
   "id": "f1fa4375",
   "metadata": {},
   "outputs": [
    {
     "data": {
      "text/plain": [
       "34"
      ]
     },
     "execution_count": 92,
     "metadata": {},
     "output_type": "execute_result"
    }
   ],
   "source": [
    "b"
   ]
  },
  {
   "cell_type": "code",
   "execution_count": 93,
   "id": "fbd98ee9",
   "metadata": {},
   "outputs": [
    {
     "data": {
      "text/plain": [
       "int"
      ]
     },
     "execution_count": 93,
     "metadata": {},
     "output_type": "execute_result"
    }
   ],
   "source": [
    "type(b)"
   ]
  },
  {
   "cell_type": "code",
   "execution_count": null,
   "id": "9ed2c992",
   "metadata": {},
   "outputs": [],
   "source": [
    "#연산\n",
    "assign = 오른쪽을 왼쪽에 넣어라\n",
    "equal == 둘이 진짜 같다"
   ]
  },
  {
   "cell_type": "code",
   "execution_count": 94,
   "id": "5d360e64",
   "metadata": {},
   "outputs": [
    {
     "data": {
      "text/plain": [
       "False"
      ]
     },
     "execution_count": 94,
     "metadata": {},
     "output_type": "execute_result"
    }
   ],
   "source": [
    "bool(-0)"
   ]
  },
  {
   "cell_type": "code",
   "execution_count": 95,
   "id": "77782bb7",
   "metadata": {},
   "outputs": [
    {
     "data": {
      "text/plain": [
       "True"
      ]
     },
     "execution_count": 95,
     "metadata": {},
     "output_type": "execute_result"
    }
   ],
   "source": [
    "bool(-1)"
   ]
  },
  {
   "cell_type": "code",
   "execution_count": 96,
   "id": "4b5dcc6f",
   "metadata": {},
   "outputs": [
    {
     "data": {
      "text/plain": [
       "False"
      ]
     },
     "execution_count": 96,
     "metadata": {},
     "output_type": "execute_result"
    }
   ],
   "source": [
    "bool(0.0)"
   ]
  },
  {
   "cell_type": "code",
   "execution_count": 97,
   "id": "ffcf1f0b",
   "metadata": {},
   "outputs": [
    {
     "data": {
      "text/plain": [
       "True"
      ]
     },
     "execution_count": 97,
     "metadata": {},
     "output_type": "execute_result"
    }
   ],
   "source": [
    "bool('ab')"
   ]
  },
  {
   "cell_type": "code",
   "execution_count": 98,
   "id": "fe24a7b0",
   "metadata": {},
   "outputs": [
    {
     "data": {
      "text/plain": [
       "True"
      ]
     },
     "execution_count": 98,
     "metadata": {},
     "output_type": "execute_result"
    }
   ],
   "source": [
    "bool('')"
   ]
  },
  {
   "cell_type": "code",
   "execution_count": 99,
   "id": "1b9d1359",
   "metadata": {},
   "outputs": [
    {
     "name": "stdout",
     "output_type": "stream",
     "text": [
      "eat 20 apples\n"
     ]
    }
   ],
   "source": [
    "x=20\n",
    "print(\"eat %d apples\" %x)"
   ]
  },
  {
   "cell_type": "code",
   "execution_count": 101,
   "id": "5a48d941",
   "metadata": {},
   "outputs": [
    {
     "name": "stdout",
     "output_type": "stream",
     "text": [
      "haha 3.3\n"
     ]
    }
   ],
   "source": [
    "print(\"haha %.1f\" %3.3333)"
   ]
  },
  {
   "cell_type": "code",
   "execution_count": 102,
   "id": "1c9dd8ff",
   "metadata": {},
   "outputs": [
    {
     "name": "stdout",
     "output_type": "stream",
     "text": [
      "     hello\n"
     ]
    }
   ],
   "source": [
    "print(\"%10s\" %\"hello\")"
   ]
  },
  {
   "cell_type": "code",
   "execution_count": 109,
   "id": "69a7c2d1",
   "metadata": {},
   "outputs": [
    {
     "name": "stdout",
     "output_type": "stream",
     "text": [
      "hello     \n"
     ]
    }
   ],
   "source": [
    "print(\"{0:<10}\".format(\"hello\"))"
   ]
  },
  {
   "cell_type": "code",
   "execution_count": 108,
   "id": "7dbad42f",
   "metadata": {},
   "outputs": [
    {
     "name": "stdout",
     "output_type": "stream",
     "text": [
      "  hello   \n"
     ]
    }
   ],
   "source": [
    "print(\"{0:^10}\".format(\"hello\"))"
   ]
  },
  {
   "cell_type": "code",
   "execution_count": 107,
   "id": "efd448b9",
   "metadata": {},
   "outputs": [
    {
     "name": "stdout",
     "output_type": "stream",
     "text": [
      "     hello\n"
     ]
    }
   ],
   "source": [
    "print(\"{0:>10}\".format(\"hello\"))"
   ]
  },
  {
   "cell_type": "code",
   "execution_count": 118,
   "id": "be05a2e5",
   "metadata": {},
   "outputs": [
    {
     "data": {
      "text/plain": [
       "'   hell  o'"
      ]
     },
     "execution_count": 118,
     "metadata": {},
     "output_type": "execute_result"
    }
   ],
   "source": [
    "a='   hell  o   '\n",
    "a.strip()\n",
    "a.lstrip()\n",
    "a.rstrip()"
   ]
  },
  {
   "cell_type": "code",
   "execution_count": 121,
   "id": "7724d5ec",
   "metadata": {},
   "outputs": [
    {
     "name": "stdout",
     "output_type": "stream",
     "text": [
      "1%\n"
     ]
    }
   ],
   "source": [
    "print(\"%d%%\" %1)"
   ]
  },
  {
   "cell_type": "code",
   "execution_count": 124,
   "id": "750567e1",
   "metadata": {},
   "outputs": [
    {
     "name": "stdout",
     "output_type": "stream",
     "text": [
      "in 안녕 apples 2 days\n"
     ]
    }
   ],
   "source": [
    "# format index\n",
    "print(\"in {0} apples {1} days\".format('안녕', 2))"
   ]
  },
  {
   "cell_type": "code",
   "execution_count": 126,
   "id": "3b76473f",
   "metadata": {},
   "outputs": [
    {
     "name": "stdout",
     "output_type": "stream",
     "text": [
      "a new one a new happy\n"
     ]
    }
   ],
   "source": [
    "#변수할당\n",
    "print(\"a new {day} a new {dog}\".format(day=\"one\", dog=\"happy\"))"
   ]
  },
  {
   "cell_type": "code",
   "execution_count": null,
   "id": "00666499",
   "metadata": {},
   "outputs": [],
   "source": []
  },
  {
   "cell_type": "code",
   "execution_count": null,
   "id": "50537be4",
   "metadata": {},
   "outputs": [],
   "source": []
  },
  {
   "cell_type": "code",
   "execution_count": null,
   "id": "d439ef43",
   "metadata": {},
   "outputs": [],
   "source": []
  },
  {
   "cell_type": "code",
   "execution_count": null,
   "id": "b6bba3fa",
   "metadata": {},
   "outputs": [],
   "source": []
  },
  {
   "cell_type": "code",
   "execution_count": null,
   "id": "d9877e4c",
   "metadata": {},
   "outputs": [],
   "source": []
  },
  {
   "cell_type": "code",
   "execution_count": null,
   "id": "46869000",
   "metadata": {},
   "outputs": [],
   "source": []
  },
  {
   "cell_type": "code",
   "execution_count": null,
   "id": "09a4b25a",
   "metadata": {},
   "outputs": [],
   "source": []
  },
  {
   "cell_type": "code",
   "execution_count": null,
   "id": "e669eb8d",
   "metadata": {},
   "outputs": [],
   "source": []
  },
  {
   "cell_type": "code",
   "execution_count": null,
   "id": "993e340f",
   "metadata": {},
   "outputs": [],
   "source": []
  }
 ],
 "metadata": {
  "kernelspec": {
   "display_name": "Python 3",
   "language": "python",
   "name": "python3"
  },
  "language_info": {
   "codemirror_mode": {
    "name": "ipython",
    "version": 3
   },
   "file_extension": ".py",
   "mimetype": "text/x-python",
   "name": "python",
   "nbconvert_exporter": "python",
   "pygments_lexer": "ipython3",
   "version": "3.8.8"
  }
 },
 "nbformat": 4,
 "nbformat_minor": 5
}

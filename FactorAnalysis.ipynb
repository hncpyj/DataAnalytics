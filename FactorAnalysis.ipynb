{
  "nbformat": 4,
  "nbformat_minor": 0,
  "metadata": {
    "colab": {
      "name": "FactorAnalysis.ipynb",
      "provenance": [],
      "mount_file_id": "1T3TS7iJrU7LnbARFBaB8s8yeSBH1Q0JO",
      "authorship_tag": "ABX9TyO2FAJrk7I7oguuDs4TiNzi",
      "include_colab_link": true
    },
    "kernelspec": {
      "name": "python3",
      "display_name": "Python 3"
    },
    "language_info": {
      "name": "python"
    }
  },
  "cells": [
    {
      "cell_type": "markdown",
      "metadata": {
        "id": "view-in-github",
        "colab_type": "text"
      },
      "source": [
        "<a href=\"https://colab.research.google.com/github/hncpyj/DataAnalytics/blob/main/FactorAnalysis.ipynb\" target=\"_parent\"><img src=\"https://colab.research.google.com/assets/colab-badge.svg\" alt=\"Open In Colab\"/></a>"
      ]
    },
    {
      "cell_type": "code",
      "source": [
        "# pip install factor_analyzer"
      ],
      "metadata": {
        "colab": {
          "base_uri": "https://localhost:8080/"
        },
        "id": "ikBJcfQM8fSt",
        "outputId": "e4658b18-8c23-4afd-cf64-9df48a1c8aa5"
      },
      "execution_count": 5,
      "outputs": [
        {
          "output_type": "stream",
          "name": "stdout",
          "text": [
            "Collecting factor_analyzer\n",
            "  Downloading factor_analyzer-0.4.0.tar.gz (41 kB)\n",
            "\u001b[?25l\r\u001b[K     |███████▉                        | 10 kB 20.3 MB/s eta 0:00:01\r\u001b[K     |███████████████▊                | 20 kB 24.0 MB/s eta 0:00:01\r\u001b[K     |███████████████████████▋        | 30 kB 29.0 MB/s eta 0:00:01\r\u001b[K     |███████████████████████████████▌| 40 kB 16.1 MB/s eta 0:00:01\r\u001b[K     |████████████████████████████████| 41 kB 429 kB/s \n",
            "\u001b[?25hRequirement already satisfied: pandas in /usr/local/lib/python3.7/dist-packages (from factor_analyzer) (1.3.5)\n",
            "Requirement already satisfied: scipy in /usr/local/lib/python3.7/dist-packages (from factor_analyzer) (1.4.1)\n",
            "Requirement already satisfied: numpy in /usr/local/lib/python3.7/dist-packages (from factor_analyzer) (1.21.5)\n",
            "Requirement already satisfied: scikit-learn in /usr/local/lib/python3.7/dist-packages (from factor_analyzer) (1.0.2)\n",
            "Requirement already satisfied: python-dateutil>=2.7.3 in /usr/local/lib/python3.7/dist-packages (from pandas->factor_analyzer) (2.8.2)\n",
            "Requirement already satisfied: pytz>=2017.3 in /usr/local/lib/python3.7/dist-packages (from pandas->factor_analyzer) (2018.9)\n",
            "Requirement already satisfied: six>=1.5 in /usr/local/lib/python3.7/dist-packages (from python-dateutil>=2.7.3->pandas->factor_analyzer) (1.15.0)\n",
            "Requirement already satisfied: joblib>=0.11 in /usr/local/lib/python3.7/dist-packages (from scikit-learn->factor_analyzer) (1.1.0)\n",
            "Requirement already satisfied: threadpoolctl>=2.0.0 in /usr/local/lib/python3.7/dist-packages (from scikit-learn->factor_analyzer) (3.1.0)\n",
            "Building wheels for collected packages: factor-analyzer\n",
            "  Building wheel for factor-analyzer (setup.py) ... \u001b[?25l\u001b[?25hdone\n",
            "  Created wheel for factor-analyzer: filename=factor_analyzer-0.4.0-py3-none-any.whl size=41455 sha256=84ceaa76a59de88fe88ffed43cb726d958157cf6b423954387f4ac30745e4452\n",
            "  Stored in directory: /root/.cache/pip/wheels/ac/00/37/1f0e8a5039f9e9f207c4405bbce0796f07701eb377bfc6cc76\n",
            "Successfully built factor-analyzer\n",
            "Installing collected packages: factor-analyzer\n",
            "Successfully installed factor-analyzer-0.4.0\n"
          ]
        }
      ]
    },
    {
      "cell_type": "code",
      "execution_count": null,
      "metadata": {
        "id": "oUhvEOpm2aU8"
      },
      "outputs": [],
      "source": [
        "# Py 3.1\n",
        "import pandas as pd\n",
        "import numpy as np\n",
        "import matplotlib.pyplot as plt\n",
        "# 데이터 읽기\n",
        "med = pd.read_csv(\"/content/drive/MyDrive/DataAnalytics/MultivariateAnalysis/mva/medFactor.csv\")\n",
        "med.head(3)\n",
        "\n",
        "# 연속인 변수의 기술통계량 구하기\n",
        "med.describe()\n",
        "\n",
        "# Py 3.2\n",
        "\n",
        "# 인자분석 적정성 검정 (추가)\n",
        "from factor_analyzer.factor_analyzer import calculate_bartlett_sphericity\n",
        "chi_square_value,p_value=calculate_bartlett_sphericity(med)\n",
        "chi_square_value, p_value\n",
        "from factor_analyzer.factor_analyzer import calculate_kmo\n",
        "kmo_all,kmo_model=calculate_kmo(med)\n",
        "kmo_model\n",
        "\n",
        "# 초기 인자분석\n",
        "from factor_analyzer import FactorAnalyzer\n",
        "fa = FactorAnalyzer(rotation=None)\n",
        "# help(FactorAnalyzer): 클래스 코드 보기\n",
        "fa.fit(med)\n",
        "# 고윳값 구하기\n",
        "ev, v = fa.get_eigenvalues()\n",
        "ev\n",
        "\n",
        "# 스크리 그림 그리기\n",
        "plt.scatter(range(1, med.shape[1]+1), ev)\n",
        "plt.title('Scree Plot')\n",
        "plt.xlabel('Factors')\n",
        "plt.ylabel('Eigenvalues')\n",
        "plt.grid()\n",
        "plt.show()\n",
        "\n",
        "# Py 3.3\n",
        "# 인자 수를 3으로 한 인자분석 – 인자회전 Varimax\n",
        "fa_varimax = FactorAnalyzer(n_factors=3, rotation='varimax', method='principal')\n",
        "fa_varimax.fit(med)\n",
        "# 인자적재계수\n",
        "fa_varimax.loadings_\n",
        "\n",
        "# 인자 공통성(communality)\n",
        "fa_varimax.get_communalities()\n",
        "\n",
        "# 인자고유분산: 1-공통성\n",
        "fa_varimax.get_uniquenesses()\n",
        "\n",
        "# 인자분산\n",
        "fa_varimax.get_factor_variance()\n",
        "\n",
        "# Py 3.4\n",
        "# Oblimin 인자회전\n",
        "fa_obm = FactorAnalyzer(n_factors=3, rotation='oblimin', method='principal')\n",
        "fa_obm.fit(med)\n",
        "# 인자적재계수\n",
        "fa_obm.loadings_\n",
        "\n",
        "# 인자 공통성(communality)\n",
        "fa_obm.get_communalities()\n",
        "\n",
        "# 인자고유분산: 1-공통성\n",
        "fa_obm.get_uniquenesses()\n",
        "\n",
        "# 인자분산\n",
        "fa_obm.get_factor_variance()\n",
        "\n"
      ]
    },
    {
      "cell_type": "code",
      "source": [
        "# Py 3.1\n",
        "import pandas as pd\n",
        "import numpy as np\n",
        "import matplotlib.pyplot as plt"
      ],
      "metadata": {
        "id": "-rjeK9lO4JnO"
      },
      "execution_count": null,
      "outputs": []
    },
    {
      "cell_type": "code",
      "source": [
        "# 데이터 읽기\n",
        "med = pd.read_csv(\"/content/drive/MyDrive/DataAnalytics/MultivariateAnalysis/mva/medFactor.csv\")\n",
        "med.head(3)"
      ],
      "metadata": {
        "colab": {
          "base_uri": "https://localhost:8080/",
          "height": 143
        },
        "id": "PlmmxCgc4Jkn",
        "outputId": "ba11929d-cb31-492f-c54e-46e5e70ea5e1"
      },
      "execution_count": null,
      "outputs": [
        {
          "output_type": "execute_result",
          "data": {
            "text/plain": [
              "   lung  muscle  liver  skeleton  kidneys  heart  step  stamina  stretch  \\\n",
              "0    20      16     52        10       24     23    19       20       23   \n",
              "1    24      16     52         7       27     16    16       15       31   \n",
              "2    19      21     57        18       22     23    16       19       42   \n",
              "\n",
              "   blow  urine  \n",
              "0    29     67  \n",
              "1    33     59  \n",
              "2    40     61  "
            ],
            "text/html": [
              "\n",
              "  <div id=\"df-affd449e-4d09-4760-a528-e49959fe65c7\">\n",
              "    <div class=\"colab-df-container\">\n",
              "      <div>\n",
              "<style scoped>\n",
              "    .dataframe tbody tr th:only-of-type {\n",
              "        vertical-align: middle;\n",
              "    }\n",
              "\n",
              "    .dataframe tbody tr th {\n",
              "        vertical-align: top;\n",
              "    }\n",
              "\n",
              "    .dataframe thead th {\n",
              "        text-align: right;\n",
              "    }\n",
              "</style>\n",
              "<table border=\"1\" class=\"dataframe\">\n",
              "  <thead>\n",
              "    <tr style=\"text-align: right;\">\n",
              "      <th></th>\n",
              "      <th>lung</th>\n",
              "      <th>muscle</th>\n",
              "      <th>liver</th>\n",
              "      <th>skeleton</th>\n",
              "      <th>kidneys</th>\n",
              "      <th>heart</th>\n",
              "      <th>step</th>\n",
              "      <th>stamina</th>\n",
              "      <th>stretch</th>\n",
              "      <th>blow</th>\n",
              "      <th>urine</th>\n",
              "    </tr>\n",
              "  </thead>\n",
              "  <tbody>\n",
              "    <tr>\n",
              "      <th>0</th>\n",
              "      <td>20</td>\n",
              "      <td>16</td>\n",
              "      <td>52</td>\n",
              "      <td>10</td>\n",
              "      <td>24</td>\n",
              "      <td>23</td>\n",
              "      <td>19</td>\n",
              "      <td>20</td>\n",
              "      <td>23</td>\n",
              "      <td>29</td>\n",
              "      <td>67</td>\n",
              "    </tr>\n",
              "    <tr>\n",
              "      <th>1</th>\n",
              "      <td>24</td>\n",
              "      <td>16</td>\n",
              "      <td>52</td>\n",
              "      <td>7</td>\n",
              "      <td>27</td>\n",
              "      <td>16</td>\n",
              "      <td>16</td>\n",
              "      <td>15</td>\n",
              "      <td>31</td>\n",
              "      <td>33</td>\n",
              "      <td>59</td>\n",
              "    </tr>\n",
              "    <tr>\n",
              "      <th>2</th>\n",
              "      <td>19</td>\n",
              "      <td>21</td>\n",
              "      <td>57</td>\n",
              "      <td>18</td>\n",
              "      <td>22</td>\n",
              "      <td>23</td>\n",
              "      <td>16</td>\n",
              "      <td>19</td>\n",
              "      <td>42</td>\n",
              "      <td>40</td>\n",
              "      <td>61</td>\n",
              "    </tr>\n",
              "  </tbody>\n",
              "</table>\n",
              "</div>\n",
              "      <button class=\"colab-df-convert\" onclick=\"convertToInteractive('df-affd449e-4d09-4760-a528-e49959fe65c7')\"\n",
              "              title=\"Convert this dataframe to an interactive table.\"\n",
              "              style=\"display:none;\">\n",
              "        \n",
              "  <svg xmlns=\"http://www.w3.org/2000/svg\" height=\"24px\"viewBox=\"0 0 24 24\"\n",
              "       width=\"24px\">\n",
              "    <path d=\"M0 0h24v24H0V0z\" fill=\"none\"/>\n",
              "    <path d=\"M18.56 5.44l.94 2.06.94-2.06 2.06-.94-2.06-.94-.94-2.06-.94 2.06-2.06.94zm-11 1L8.5 8.5l.94-2.06 2.06-.94-2.06-.94L8.5 2.5l-.94 2.06-2.06.94zm10 10l.94 2.06.94-2.06 2.06-.94-2.06-.94-.94-2.06-.94 2.06-2.06.94z\"/><path d=\"M17.41 7.96l-1.37-1.37c-.4-.4-.92-.59-1.43-.59-.52 0-1.04.2-1.43.59L10.3 9.45l-7.72 7.72c-.78.78-.78 2.05 0 2.83L4 21.41c.39.39.9.59 1.41.59.51 0 1.02-.2 1.41-.59l7.78-7.78 2.81-2.81c.8-.78.8-2.07 0-2.86zM5.41 20L4 18.59l7.72-7.72 1.47 1.35L5.41 20z\"/>\n",
              "  </svg>\n",
              "      </button>\n",
              "      \n",
              "  <style>\n",
              "    .colab-df-container {\n",
              "      display:flex;\n",
              "      flex-wrap:wrap;\n",
              "      gap: 12px;\n",
              "    }\n",
              "\n",
              "    .colab-df-convert {\n",
              "      background-color: #E8F0FE;\n",
              "      border: none;\n",
              "      border-radius: 50%;\n",
              "      cursor: pointer;\n",
              "      display: none;\n",
              "      fill: #1967D2;\n",
              "      height: 32px;\n",
              "      padding: 0 0 0 0;\n",
              "      width: 32px;\n",
              "    }\n",
              "\n",
              "    .colab-df-convert:hover {\n",
              "      background-color: #E2EBFA;\n",
              "      box-shadow: 0px 1px 2px rgba(60, 64, 67, 0.3), 0px 1px 3px 1px rgba(60, 64, 67, 0.15);\n",
              "      fill: #174EA6;\n",
              "    }\n",
              "\n",
              "    [theme=dark] .colab-df-convert {\n",
              "      background-color: #3B4455;\n",
              "      fill: #D2E3FC;\n",
              "    }\n",
              "\n",
              "    [theme=dark] .colab-df-convert:hover {\n",
              "      background-color: #434B5C;\n",
              "      box-shadow: 0px 1px 3px 1px rgba(0, 0, 0, 0.15);\n",
              "      filter: drop-shadow(0px 1px 2px rgba(0, 0, 0, 0.3));\n",
              "      fill: #FFFFFF;\n",
              "    }\n",
              "  </style>\n",
              "\n",
              "      <script>\n",
              "        const buttonEl =\n",
              "          document.querySelector('#df-affd449e-4d09-4760-a528-e49959fe65c7 button.colab-df-convert');\n",
              "        buttonEl.style.display =\n",
              "          google.colab.kernel.accessAllowed ? 'block' : 'none';\n",
              "\n",
              "        async function convertToInteractive(key) {\n",
              "          const element = document.querySelector('#df-affd449e-4d09-4760-a528-e49959fe65c7');\n",
              "          const dataTable =\n",
              "            await google.colab.kernel.invokeFunction('convertToInteractive',\n",
              "                                                     [key], {});\n",
              "          if (!dataTable) return;\n",
              "\n",
              "          const docLinkHtml = 'Like what you see? Visit the ' +\n",
              "            '<a target=\"_blank\" href=https://colab.research.google.com/notebooks/data_table.ipynb>data table notebook</a>'\n",
              "            + ' to learn more about interactive tables.';\n",
              "          element.innerHTML = '';\n",
              "          dataTable['output_type'] = 'display_data';\n",
              "          await google.colab.output.renderOutput(dataTable, element);\n",
              "          const docLink = document.createElement('div');\n",
              "          docLink.innerHTML = docLinkHtml;\n",
              "          element.appendChild(docLink);\n",
              "        }\n",
              "      </script>\n",
              "    </div>\n",
              "  </div>\n",
              "  "
            ]
          },
          "metadata": {},
          "execution_count": 2
        }
      ]
    },
    {
      "cell_type": "code",
      "source": [
        "# 기술통계량 구하기\n",
        "med.describe()"
      ],
      "metadata": {
        "colab": {
          "base_uri": "https://localhost:8080/",
          "height": 364
        },
        "id": "4r9F-Qgb4Jhe",
        "outputId": "9fb7281b-cb7e-4867-b314-4120c44a6199"
      },
      "execution_count": null,
      "outputs": [
        {
          "output_type": "execute_result",
          "data": {
            "text/plain": [
              "             lung      muscle       liver    skeleton     kidneys       heart  \\\n",
              "count  128.000000  128.000000  128.000000  128.000000  128.000000  128.000000   \n",
              "mean    19.960938   18.820312   54.695312   12.867188   25.640625   23.179688   \n",
              "std      4.464034    4.088458    7.428990    2.986508    3.805786    4.159106   \n",
              "min      4.000000    9.000000   26.000000    3.000000   16.000000   11.000000   \n",
              "25%     17.000000   16.000000   50.750000   11.000000   23.000000   22.000000   \n",
              "50%     20.000000   19.000000   55.000000   13.000000   26.000000   23.000000   \n",
              "75%     23.000000   22.000000   60.250000   15.000000   29.000000   25.000000   \n",
              "max     29.000000   28.000000   69.000000   19.000000   32.000000   56.000000   \n",
              "\n",
              "             step     stamina     stretch        blow       urine  \n",
              "count  128.000000  128.000000  128.000000  128.000000  128.000000  \n",
              "mean    16.171875   15.867188   38.812500   33.539062   66.906250  \n",
              "std      2.478599    2.651314    7.798395    4.097055   12.565067  \n",
              "min      4.000000    7.000000   16.000000   17.000000    9.000000  \n",
              "25%     15.000000   14.000000   34.000000   32.000000   59.000000  \n",
              "50%     17.000000   16.000000   40.000000   34.000000   67.000000  \n",
              "75%     18.000000   18.000000   45.000000   36.000000   76.000000  \n",
              "max     20.000000   20.000000   51.000000   41.000000   93.000000  "
            ],
            "text/html": [
              "\n",
              "  <div id=\"df-7a3b3b17-e769-421c-8034-1368d013c29a\">\n",
              "    <div class=\"colab-df-container\">\n",
              "      <div>\n",
              "<style scoped>\n",
              "    .dataframe tbody tr th:only-of-type {\n",
              "        vertical-align: middle;\n",
              "    }\n",
              "\n",
              "    .dataframe tbody tr th {\n",
              "        vertical-align: top;\n",
              "    }\n",
              "\n",
              "    .dataframe thead th {\n",
              "        text-align: right;\n",
              "    }\n",
              "</style>\n",
              "<table border=\"1\" class=\"dataframe\">\n",
              "  <thead>\n",
              "    <tr style=\"text-align: right;\">\n",
              "      <th></th>\n",
              "      <th>lung</th>\n",
              "      <th>muscle</th>\n",
              "      <th>liver</th>\n",
              "      <th>skeleton</th>\n",
              "      <th>kidneys</th>\n",
              "      <th>heart</th>\n",
              "      <th>step</th>\n",
              "      <th>stamina</th>\n",
              "      <th>stretch</th>\n",
              "      <th>blow</th>\n",
              "      <th>urine</th>\n",
              "    </tr>\n",
              "  </thead>\n",
              "  <tbody>\n",
              "    <tr>\n",
              "      <th>count</th>\n",
              "      <td>128.000000</td>\n",
              "      <td>128.000000</td>\n",
              "      <td>128.000000</td>\n",
              "      <td>128.000000</td>\n",
              "      <td>128.000000</td>\n",
              "      <td>128.000000</td>\n",
              "      <td>128.000000</td>\n",
              "      <td>128.000000</td>\n",
              "      <td>128.000000</td>\n",
              "      <td>128.000000</td>\n",
              "      <td>128.000000</td>\n",
              "    </tr>\n",
              "    <tr>\n",
              "      <th>mean</th>\n",
              "      <td>19.960938</td>\n",
              "      <td>18.820312</td>\n",
              "      <td>54.695312</td>\n",
              "      <td>12.867188</td>\n",
              "      <td>25.640625</td>\n",
              "      <td>23.179688</td>\n",
              "      <td>16.171875</td>\n",
              "      <td>15.867188</td>\n",
              "      <td>38.812500</td>\n",
              "      <td>33.539062</td>\n",
              "      <td>66.906250</td>\n",
              "    </tr>\n",
              "    <tr>\n",
              "      <th>std</th>\n",
              "      <td>4.464034</td>\n",
              "      <td>4.088458</td>\n",
              "      <td>7.428990</td>\n",
              "      <td>2.986508</td>\n",
              "      <td>3.805786</td>\n",
              "      <td>4.159106</td>\n",
              "      <td>2.478599</td>\n",
              "      <td>2.651314</td>\n",
              "      <td>7.798395</td>\n",
              "      <td>4.097055</td>\n",
              "      <td>12.565067</td>\n",
              "    </tr>\n",
              "    <tr>\n",
              "      <th>min</th>\n",
              "      <td>4.000000</td>\n",
              "      <td>9.000000</td>\n",
              "      <td>26.000000</td>\n",
              "      <td>3.000000</td>\n",
              "      <td>16.000000</td>\n",
              "      <td>11.000000</td>\n",
              "      <td>4.000000</td>\n",
              "      <td>7.000000</td>\n",
              "      <td>16.000000</td>\n",
              "      <td>17.000000</td>\n",
              "      <td>9.000000</td>\n",
              "    </tr>\n",
              "    <tr>\n",
              "      <th>25%</th>\n",
              "      <td>17.000000</td>\n",
              "      <td>16.000000</td>\n",
              "      <td>50.750000</td>\n",
              "      <td>11.000000</td>\n",
              "      <td>23.000000</td>\n",
              "      <td>22.000000</td>\n",
              "      <td>15.000000</td>\n",
              "      <td>14.000000</td>\n",
              "      <td>34.000000</td>\n",
              "      <td>32.000000</td>\n",
              "      <td>59.000000</td>\n",
              "    </tr>\n",
              "    <tr>\n",
              "      <th>50%</th>\n",
              "      <td>20.000000</td>\n",
              "      <td>19.000000</td>\n",
              "      <td>55.000000</td>\n",
              "      <td>13.000000</td>\n",
              "      <td>26.000000</td>\n",
              "      <td>23.000000</td>\n",
              "      <td>17.000000</td>\n",
              "      <td>16.000000</td>\n",
              "      <td>40.000000</td>\n",
              "      <td>34.000000</td>\n",
              "      <td>67.000000</td>\n",
              "    </tr>\n",
              "    <tr>\n",
              "      <th>75%</th>\n",
              "      <td>23.000000</td>\n",
              "      <td>22.000000</td>\n",
              "      <td>60.250000</td>\n",
              "      <td>15.000000</td>\n",
              "      <td>29.000000</td>\n",
              "      <td>25.000000</td>\n",
              "      <td>18.000000</td>\n",
              "      <td>18.000000</td>\n",
              "      <td>45.000000</td>\n",
              "      <td>36.000000</td>\n",
              "      <td>76.000000</td>\n",
              "    </tr>\n",
              "    <tr>\n",
              "      <th>max</th>\n",
              "      <td>29.000000</td>\n",
              "      <td>28.000000</td>\n",
              "      <td>69.000000</td>\n",
              "      <td>19.000000</td>\n",
              "      <td>32.000000</td>\n",
              "      <td>56.000000</td>\n",
              "      <td>20.000000</td>\n",
              "      <td>20.000000</td>\n",
              "      <td>51.000000</td>\n",
              "      <td>41.000000</td>\n",
              "      <td>93.000000</td>\n",
              "    </tr>\n",
              "  </tbody>\n",
              "</table>\n",
              "</div>\n",
              "      <button class=\"colab-df-convert\" onclick=\"convertToInteractive('df-7a3b3b17-e769-421c-8034-1368d013c29a')\"\n",
              "              title=\"Convert this dataframe to an interactive table.\"\n",
              "              style=\"display:none;\">\n",
              "        \n",
              "  <svg xmlns=\"http://www.w3.org/2000/svg\" height=\"24px\"viewBox=\"0 0 24 24\"\n",
              "       width=\"24px\">\n",
              "    <path d=\"M0 0h24v24H0V0z\" fill=\"none\"/>\n",
              "    <path d=\"M18.56 5.44l.94 2.06.94-2.06 2.06-.94-2.06-.94-.94-2.06-.94 2.06-2.06.94zm-11 1L8.5 8.5l.94-2.06 2.06-.94-2.06-.94L8.5 2.5l-.94 2.06-2.06.94zm10 10l.94 2.06.94-2.06 2.06-.94-2.06-.94-.94-2.06-.94 2.06-2.06.94z\"/><path d=\"M17.41 7.96l-1.37-1.37c-.4-.4-.92-.59-1.43-.59-.52 0-1.04.2-1.43.59L10.3 9.45l-7.72 7.72c-.78.78-.78 2.05 0 2.83L4 21.41c.39.39.9.59 1.41.59.51 0 1.02-.2 1.41-.59l7.78-7.78 2.81-2.81c.8-.78.8-2.07 0-2.86zM5.41 20L4 18.59l7.72-7.72 1.47 1.35L5.41 20z\"/>\n",
              "  </svg>\n",
              "      </button>\n",
              "      \n",
              "  <style>\n",
              "    .colab-df-container {\n",
              "      display:flex;\n",
              "      flex-wrap:wrap;\n",
              "      gap: 12px;\n",
              "    }\n",
              "\n",
              "    .colab-df-convert {\n",
              "      background-color: #E8F0FE;\n",
              "      border: none;\n",
              "      border-radius: 50%;\n",
              "      cursor: pointer;\n",
              "      display: none;\n",
              "      fill: #1967D2;\n",
              "      height: 32px;\n",
              "      padding: 0 0 0 0;\n",
              "      width: 32px;\n",
              "    }\n",
              "\n",
              "    .colab-df-convert:hover {\n",
              "      background-color: #E2EBFA;\n",
              "      box-shadow: 0px 1px 2px rgba(60, 64, 67, 0.3), 0px 1px 3px 1px rgba(60, 64, 67, 0.15);\n",
              "      fill: #174EA6;\n",
              "    }\n",
              "\n",
              "    [theme=dark] .colab-df-convert {\n",
              "      background-color: #3B4455;\n",
              "      fill: #D2E3FC;\n",
              "    }\n",
              "\n",
              "    [theme=dark] .colab-df-convert:hover {\n",
              "      background-color: #434B5C;\n",
              "      box-shadow: 0px 1px 3px 1px rgba(0, 0, 0, 0.15);\n",
              "      filter: drop-shadow(0px 1px 2px rgba(0, 0, 0, 0.3));\n",
              "      fill: #FFFFFF;\n",
              "    }\n",
              "  </style>\n",
              "\n",
              "      <script>\n",
              "        const buttonEl =\n",
              "          document.querySelector('#df-7a3b3b17-e769-421c-8034-1368d013c29a button.colab-df-convert');\n",
              "        buttonEl.style.display =\n",
              "          google.colab.kernel.accessAllowed ? 'block' : 'none';\n",
              "\n",
              "        async function convertToInteractive(key) {\n",
              "          const element = document.querySelector('#df-7a3b3b17-e769-421c-8034-1368d013c29a');\n",
              "          const dataTable =\n",
              "            await google.colab.kernel.invokeFunction('convertToInteractive',\n",
              "                                                     [key], {});\n",
              "          if (!dataTable) return;\n",
              "\n",
              "          const docLinkHtml = 'Like what you see? Visit the ' +\n",
              "            '<a target=\"_blank\" href=https://colab.research.google.com/notebooks/data_table.ipynb>data table notebook</a>'\n",
              "            + ' to learn more about interactive tables.';\n",
              "          element.innerHTML = '';\n",
              "          dataTable['output_type'] = 'display_data';\n",
              "          await google.colab.output.renderOutput(dataTable, element);\n",
              "          const docLink = document.createElement('div');\n",
              "          docLink.innerHTML = docLinkHtml;\n",
              "          element.appendChild(docLink);\n",
              "        }\n",
              "      </script>\n",
              "    </div>\n",
              "  </div>\n",
              "  "
            ]
          },
          "metadata": {},
          "execution_count": 3
        }
      ]
    },
    {
      "cell_type": "code",
      "source": [
        ""
      ],
      "metadata": {
        "id": "Vfgmlrcc8cD7"
      },
      "execution_count": null,
      "outputs": []
    },
    {
      "cell_type": "code",
      "source": [
        "# Py 3.2\n",
        "\n",
        "# 인자분석 적정성 검정 (추가)\n",
        "# 두 개의 값을 튜플로 보내고 출력\n",
        "# Bartlett's test of sphericity\n",
        "from factor_analyzer.factor_analyzer import calculate_bartlett_sphericity\n",
        "chi_square_value,p_value=calculate_bartlett_sphericity(med)\n",
        "chi_square_value, p_value"
      ],
      "metadata": {
        "id": "egv-8cdm4Jeq",
        "colab": {
          "base_uri": "https://localhost:8080/"
        },
        "outputId": "2e3e3532-f594-44d1-9785-079c5755b791"
      },
      "execution_count": 11,
      "outputs": [
        {
          "output_type": "execute_result",
          "data": {
            "text/plain": [
              "(341.20898764752224, 6.436275834348501e-43)"
            ]
          },
          "metadata": {},
          "execution_count": 11
        }
      ]
    },
    {
      "cell_type": "code",
      "source": [
        "# KMO(Kaiser-Meyer-Olkin)\n",
        "from factor_analyzer.factor_analyzer import calculate_kmo\n",
        "kmo_all,kmo_model=calculate_kmo(med)\n",
        "kmo_model"
      ],
      "metadata": {
        "id": "x2IMSr6C4JZr",
        "colab": {
          "base_uri": "https://localhost:8080/"
        },
        "outputId": "fc3ee486-8708-4e93-daff-67f65f5941ef"
      },
      "execution_count": 12,
      "outputs": [
        {
          "output_type": "execute_result",
          "data": {
            "text/plain": [
              "0.6840306201730827"
            ]
          },
          "metadata": {},
          "execution_count": 12
        }
      ]
    },
    {
      "cell_type": "code",
      "source": [
        "# 초기 인자분석\n",
        "# 회전하기 전의 값을 확인\n",
        "from factor_analyzer import FactorAnalyzer\n",
        "fa = FactorAnalyzer(rotation=None)\n",
        "# help(FactorAnalyzer): 클래스 코드 보기\n",
        "fa.fit(med)\n",
        "# 고유값 구하기\n",
        "ev, v = fa.get_eigenvalues()\n",
        "ev"
      ],
      "metadata": {
        "id": "pNEKlNT24JW0",
        "colab": {
          "base_uri": "https://localhost:8080/"
        },
        "outputId": "42c3c775-3acc-4648-c969-9cab9e37ec24"
      },
      "execution_count": 18,
      "outputs": [
        {
          "output_type": "execute_result",
          "data": {
            "text/plain": [
              "array([3.37918137, 1.48277065, 1.25063015, 0.98047706, 0.7688022 ,\n",
              "       0.73305114, 0.64039936, 0.62219335, 0.52837181, 0.35193006,\n",
              "       0.26219284])"
            ]
          },
          "metadata": {},
          "execution_count": 18
        }
      ]
    },
    {
      "cell_type": "code",
      "source": [
        "# 스크리 그림 그리기\n",
        "plt.scatter(range(1, med.shape[1]+1), ev)\n",
        "plt.title('Scree Plot')\n",
        "plt.xlabel('Factors')\n",
        "plt.ylabel('Eigenvalues')\n",
        "plt.grid()\n",
        "plt.show()"
      ],
      "metadata": {
        "id": "VCcSNuiK4JUD",
        "colab": {
          "base_uri": "https://localhost:8080/",
          "height": 295
        },
        "outputId": "bc05593b-5889-42c4-8466-16297b8d3779"
      },
      "execution_count": 19,
      "outputs": [
        {
          "output_type": "display_data",
          "data": {
            "text/plain": [
              "<Figure size 432x288 with 1 Axes>"
            ],
            "image/png": "[encoded data removed]"
          },
          "metadata": {
            "needs_background": "light"
          }
        }
      ]
    },
    {
      "cell_type": "code",
      "source": [
        "# Py 3.3\n",
        "# 인자 수를 3으로 한 인자분석 – 인자회전 Varimax\n",
        "# method를 따로 기재해주지 않으면 default로 minres로 설정된다.\n",
        "fa_varimax = FactorAnalyzer(n_factors=3, rotation='varimax', method='principal')\n",
        "fa_varimax.fit(med)\n",
        "# 인자적재계수\n",
        "fa_varimax.loadings_"
      ],
      "metadata": {
        "id": "jIcHh9TC4JRF",
        "colab": {
          "base_uri": "https://localhost:8080/"
        },
        "outputId": "e80ff1db-1498-4b2b-8825-0aad5cd26755"
      },
      "execution_count": 22,
      "outputs": [
        {
          "output_type": "stream",
          "name": "stderr",
          "text": [
            "/usr/local/lib/python3.7/dist-packages/sklearn/utils/extmath.py:376: FutureWarning: If 'random_state' is not supplied, the current default is to use 0 as a fixed seed. This will change to  None in version 1.2 leading to non-deterministic results that better reflect nature of the randomized_svd solver. If you want to silence this warning, set 'random_state' to an integer seed or to None explicitly depending if you want your code to be deterministic or not.\n",
            "  FutureWarning,\n"
          ]
        },
        {
          "output_type": "execute_result",
          "data": {
            "text/plain": [
              "array([[ 0.65878525,  0.12346342,  0.15968869],\n",
              "       [ 0.11050158, -0.08558685,  0.78515374],\n",
              "       [ 0.78277104,  0.12660215,  0.17034463],\n",
              "       [ 0.18511311,  0.28536587,  0.76291477],\n",
              "       [ 0.7311586 ,  0.22984416, -0.13511459],\n",
              "       [ 0.64562431, -0.10713445,  0.18511691],\n",
              "       [ 0.48611689,  0.48034384,  0.1024609 ],\n",
              "       [ 0.01622228,  0.61957128,  0.28933538],\n",
              "       [ 0.17951235,  0.65188733,  0.336389  ],\n",
              "       [ 0.26415003,  0.69935448, -0.04008537],\n",
              "       [-0.06632364,  0.64885446, -0.27650532]])"
            ]
          },
          "metadata": {},
          "execution_count": 22
        }
      ]
    },
    {
      "cell_type": "code",
      "source": [
        "# 인자적재계수(round 3)\n",
        "np.round(fa_varimax.loadings_, 3)"
      ],
      "metadata": {
        "id": "hrJk_Kov4JMZ",
        "colab": {
          "base_uri": "https://localhost:8080/"
        },
        "outputId": "dca8057b-3567-4458-cea1-e82ee06d9c9e"
      },
      "execution_count": 23,
      "outputs": [
        {
          "output_type": "execute_result",
          "data": {
            "text/plain": [
              "array([[ 0.659,  0.123,  0.16 ],\n",
              "       [ 0.111, -0.086,  0.785],\n",
              "       [ 0.783,  0.127,  0.17 ],\n",
              "       [ 0.185,  0.285,  0.763],\n",
              "       [ 0.731,  0.23 , -0.135],\n",
              "       [ 0.646, -0.107,  0.185],\n",
              "       [ 0.486,  0.48 ,  0.102],\n",
              "       [ 0.016,  0.62 ,  0.289],\n",
              "       [ 0.18 ,  0.652,  0.336],\n",
              "       [ 0.264,  0.699, -0.04 ],\n",
              "       [-0.066,  0.649, -0.277]])"
            ]
          },
          "metadata": {},
          "execution_count": 23
        }
      ]
    },
    {
      "cell_type": "code",
      "source": [
        "# 인자 공통성(communality)\n",
        "np.round(fa_varimax.get_communalities(), 3)"
      ],
      "metadata": {
        "id": "GU1nOv_64JJk",
        "colab": {
          "base_uri": "https://localhost:8080/"
        },
        "outputId": "7247f7a1-36f8-49d6-f2fd-070dad00d74d"
      },
      "execution_count": 30,
      "outputs": [
        {
          "output_type": "execute_result",
          "data": {
            "text/plain": [
              "array([0.475, 0.636, 0.658, 0.698, 0.606, 0.463, 0.478, 0.468, 0.57 ,\n",
              "       0.56 , 0.502])"
            ]
          },
          "metadata": {},
          "execution_count": 30
        }
      ]
    },
    {
      "cell_type": "code",
      "source": [
        "# 인자고유분산: 1-공통성\n",
        "np.round(fa_varimax.get_uniquenesses(), 3)"
      ],
      "metadata": {
        "id": "TTSXcpMa4JHP",
        "colab": {
          "base_uri": "https://localhost:8080/"
        },
        "outputId": "ffe9a2a2-e81c-4975-d443-18b6fd5b2f14"
      },
      "execution_count": 31,
      "outputs": [
        {
          "output_type": "execute_result",
          "data": {
            "text/plain": [
              "array([0.525, 0.364, 0.342, 0.302, 0.394, 0.537, 0.522, 0.532, 0.43 ,\n",
              "       0.44 , 0.498])"
            ]
          },
          "metadata": {},
          "execution_count": 31
        }
      ]
    },
    {
      "cell_type": "code",
      "source": [
        "# 인자분산\n",
        "np.round(fa_varimax.get_factor_variance(), 3)"
      ],
      "metadata": {
        "id": "0h-NDZLM4JE1",
        "colab": {
          "base_uri": "https://localhost:8080/"
        },
        "outputId": "c26b6825-1452-4759-da39-6f6d528a2c6d"
      },
      "execution_count": 32,
      "outputs": [
        {
          "output_type": "execute_result",
          "data": {
            "text/plain": [
              "array([[2.388, 2.134, 1.591],\n",
              "       [0.217, 0.194, 0.145],\n",
              "       [0.217, 0.411, 0.556]])"
            ]
          },
          "metadata": {},
          "execution_count": 32
        }
      ]
    },
    {
      "cell_type": "code",
      "source": [
        ""
      ],
      "metadata": {
        "id": "qxfKSlL84JCJ"
      },
      "execution_count": null,
      "outputs": []
    },
    {
      "cell_type": "code",
      "source": [
        ""
      ],
      "metadata": {
        "id": "3ERUpxOq4I8u"
      },
      "execution_count": null,
      "outputs": []
    }
  ]
}
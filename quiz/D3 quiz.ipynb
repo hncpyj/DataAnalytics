{
 "cells": [
  {
   "cell_type": "markdown",
   "id": "6fdc2453",
   "metadata": {},
   "source": [
    "# D3 quiz"
   ]
  },
  {
   "cell_type": "code",
   "execution_count": 32,
   "id": "820b97d6",
   "metadata": {},
   "outputs": [
    {
     "data": {
      "text/plain": [
       "['Doctor Strange', 'Split', 'Lucky']"
      ]
     },
     "execution_count": 32,
     "metadata": {},
     "output_type": "execute_result"
    }
   ],
   "source": [
    "movie_rank = [\"Doctor Strange\", \"Split\", \"Lucky\"]\n",
    "movie_rank"
   ]
  },
  {
   "cell_type": "code",
   "execution_count": 33,
   "id": "5f9596df",
   "metadata": {},
   "outputs": [
    {
     "data": {
      "text/plain": [
       "['Doctor Strange', 'Split', 'Lucky', 'Batman']"
      ]
     },
     "execution_count": 33,
     "metadata": {},
     "output_type": "execute_result"
    }
   ],
   "source": [
    "movie_rank += [\"Batman\"]\n",
    "movie_rank"
   ]
  },
  {
   "cell_type": "code",
   "execution_count": 34,
   "id": "df8f257b",
   "metadata": {},
   "outputs": [
    {
     "data": {
      "text/plain": [
       "['Doctor Strange', 'SuperGirl', 'Split', 'Lucky', 'Batman']"
      ]
     },
     "execution_count": 34,
     "metadata": {},
     "output_type": "execute_result"
    }
   ],
   "source": [
    "movie_rank.insert(1, \"SuperGirl\")\n",
    "movie_rank"
   ]
  },
  {
   "cell_type": "code",
   "execution_count": 35,
   "id": "a94d1c10",
   "metadata": {},
   "outputs": [
    {
     "data": {
      "text/plain": [
       "['Doctor Strange', 'SuperGirl', 'Split', 'Batman']"
      ]
     },
     "execution_count": 35,
     "metadata": {},
     "output_type": "execute_result"
    }
   ],
   "source": [
    "#movie_rank.remove(\"Lucky\")\n",
    "del movie_rank[3]\n",
    "movie_rank"
   ]
  },
  {
   "cell_type": "code",
   "execution_count": 37,
   "id": "82cee342",
   "metadata": {},
   "outputs": [
    {
     "data": {
      "text/plain": [
       "['Doctor Strange', 'SuperGirl']"
      ]
     },
     "execution_count": 37,
     "metadata": {},
     "output_type": "execute_result"
    }
   ],
   "source": [
    "#movie_rank.remove(\"Split\", \"Batman\") ??왜안됨??\n",
    "del movie_rank[2:4]\n",
    "del movie_rank[2:]\n",
    "movie_rank"
   ]
  },
  {
   "cell_type": "code",
   "execution_count": 49,
   "id": "d70d51ac",
   "metadata": {},
   "outputs": [
    {
     "data": {
      "text/plain": [
       "[100, 130, 140, 150, 160, 170]"
      ]
     },
     "execution_count": 49,
     "metadata": {},
     "output_type": "execute_result"
    }
   ],
   "source": [
    "price = ['20180728', 100, 130, 140, 150, 160, 170]\n",
    "price[1:]"
   ]
  },
  {
   "cell_type": "code",
   "execution_count": 57,
   "id": "629858f8",
   "metadata": {},
   "outputs": [
    {
     "data": {
      "text/plain": [
       "[1, 3, 5, 7, 9]"
      ]
     },
     "execution_count": 57,
     "metadata": {},
     "output_type": "execute_result"
    }
   ],
   "source": [
    "#7.슬라이싱을 사용해서 홀수만 출력하라.\n",
    "nums = [1, 2, 3, 4, 5, 6, 7, 8, 9, 10]\n",
    "# nums[0:nums.len():2]\n",
    "# nums.len()\n",
    "len(nums)\n",
    "nums[0:len(nums):2]"
   ]
  },
  {
   "cell_type": "code",
   "execution_count": 58,
   "id": "617b0fa1",
   "metadata": {},
   "outputs": [
    {
     "data": {
      "text/plain": [
       "[5, 4, 3, 2, 1]"
      ]
     },
     "execution_count": 58,
     "metadata": {},
     "output_type": "execute_result"
    }
   ],
   "source": [
    "#8.슬라이싱을 사용해서 리스트의 숫자를 역 방향으로 출력하라.\n",
    "\n",
    "nums = [1, 2, 3, 4, 5]\n",
    "#실행 예:\n",
    "#[5, 4, 3, 2, 1]\n",
    "nums[::-1]"
   ]
  },
  {
   "cell_type": "code",
   "execution_count": 71,
   "id": "4b97b09d",
   "metadata": {},
   "outputs": [
    {
     "name": "stdout",
     "output_type": "stream",
     "text": [
      "삼성전자 Naver\n"
     ]
    }
   ],
   "source": [
    "#9.interest 리스트에는 아래의 데이터가 저장되어 있다.\n",
    "\n",
    "interest = ['삼성전자', 'LG전자', 'Naver']\n",
    "#interest 리스트를 사용하여 아래와 같이 화면에 출력하라.\n",
    "\n",
    "#출력 예시:\n",
    "#삼성전자 Naver\n",
    "\n",
    "print(interest[0], interest[2])"
   ]
  },
  {
   "cell_type": "code",
   "execution_count": 76,
   "id": "7c99f34c",
   "metadata": {},
   "outputs": [
    {
     "name": "stdout",
     "output_type": "stream",
     "text": [
      "삼성전자 LG전자 Naver SK하이닉스 미래에셋대우\n"
     ]
    }
   ],
   "source": [
    "#10. interest 리스트에는 아래의 데이터가 바인딩되어 있다.\n",
    "\n",
    "interest = ['삼성전자', 'LG전자', 'Naver', 'SK하이닉스', '미래에셋대우']\n",
    "#interest 리스트를 사용하여 아래와 같이 화면에 출력하라.\n",
    "\n",
    "#출력 예시:\n",
    "#삼성전자 LG전자 Naver SK하이닉스 미래에셋대우\n",
    "\n",
    "print(\" \".join(interest))"
   ]
  },
  {
   "cell_type": "code",
   "execution_count": 77,
   "id": "aa39e3fc",
   "metadata": {},
   "outputs": [
    {
     "name": "stdout",
     "output_type": "stream",
     "text": [
      "삼성전자\n",
      "LG전자\n",
      "Naver\n",
      "SK하이닉스\n",
      "미래에셋대우\n"
     ]
    }
   ],
   "source": [
    "#11. interest 리스트에는 아래의 데이터가 바인딩되어 있다.\n",
    "\n",
    "interest = ['삼성전자', 'LG전자', 'Naver', 'SK하이닉스', '미래에셋대우']\n",
    "#join() 메서드를 사용해서 interest 리스트를 아래와 같이 화면에 출력하라.\n",
    "\n",
    "#출력 예시:\n",
    "#삼성전자\n",
    "#LG전자\n",
    "#Naver\n",
    "#SK하이닉스\n",
    "#미래에셋대우\n",
    "print(\"\\n\".join(interest))"
   ]
  },
  {
   "cell_type": "code",
   "execution_count": 80,
   "id": "0abf5e46",
   "metadata": {},
   "outputs": [
    {
     "data": {
      "text/plain": [
       "[1, 2, 3, 4, 5, 9, 10]"
      ]
     },
     "execution_count": 80,
     "metadata": {},
     "output_type": "execute_result"
    }
   ],
   "source": [
    "#12. 리스트에 있는 값을 오름차순으로 정렬하세요.\n",
    "data = [2, 4, 3, 1, 5, 10, 9]\n",
    "data.sort()\n",
    "data"
   ]
  },
  {
   "cell_type": "code",
   "execution_count": 103,
   "id": "fa4188d7",
   "metadata": {},
   "outputs": [
    {
     "name": "stdout",
     "output_type": "stream",
     "text": [
      "생년월일:881120 뒷자리:1068234\n",
      "생년월일:881120 뒷자리:1068234\n",
      "881120-1068234\n"
     ]
    }
   ],
   "source": [
    "#13. \n",
    "#홍길동 씨의 주민등록번호는 881120-1068234이다. 홍길동 씨의 주민등록번호를 연월일(YYYYMMDD) 부분과 그 뒤의 숫자 부분으로 나누어 출력해 보자.\n",
    "#※ 문자열 슬라이싱 기법을 사용해 보자.\n",
    "pin=\"881120-1068234\"\n",
    "print(\"생년월일:\" + pin[0:6] + \" 뒷자리:\" + pin[7:14])\n",
    "print(\"생년월일:\" + pin[:6] + \" 뒷자리:\" + pin[7:])\n",
    "print(pin)"
   ]
  },
  {
   "cell_type": "code",
   "execution_count": null,
   "id": "fc5af067",
   "metadata": {},
   "outputs": [],
   "source": []
  },
  {
   "cell_type": "code",
   "execution_count": 92,
   "id": "d3877739",
   "metadata": {},
   "outputs": [
    {
     "name": "stdout",
     "output_type": "stream",
     "text": [
      "(1, 2, 3, 4)\n"
     ]
    }
   ],
   "source": [
    "#14. (1,2,3) 튜플에 값 4를 추가하여 (1,2,3,4)를 만들어 출력해 보자.\n",
    "tup=(1, 2, 3)\n",
    "tup=list(tup)\n",
    "tup.insert(3, 4)\n",
    "tup=tuple(tup)\n",
    "print(tup)"
   ]
  },
  {
   "cell_type": "code",
   "execution_count": 120,
   "id": "71e732b5",
   "metadata": {},
   "outputs": [
    {
     "name": "stdout",
     "output_type": "stream",
     "text": [
      "80\n"
     ]
    }
   ],
   "source": [
    "#15.딕셔너리 a에서 'B'에 해당되는 값을 추출해 보자.\n",
    "a = {'A':90, 'B':80, 'C':70}\n",
    "#※ 딕셔너리의 pop 함수를 사용해 보자.\n",
    "#a.pop('B')\n",
    "a.get('B')\n",
    "#print(a.get('B'))\n",
    "print(a['B'])"
   ]
  },
  {
   "cell_type": "code",
   "execution_count": null,
   "id": "bc0f48ac",
   "metadata": {},
   "outputs": [],
   "source": []
  },
  {
   "cell_type": "code",
   "execution_count": null,
   "id": "587d7d31",
   "metadata": {},
   "outputs": [],
   "source": []
  },
  {
   "cell_type": "code",
   "execution_count": null,
   "id": "2e584b71",
   "metadata": {},
   "outputs": [],
   "source": []
  }
 ],
 "metadata": {
  "kernelspec": {
   "display_name": "Python 3",
   "language": "python",
   "name": "python3"
  },
  "language_info": {
   "codemirror_mode": {
    "name": "ipython",
    "version": 3
   },
   "file_extension": ".py",
   "mimetype": "text/x-python",
   "name": "python",
   "nbconvert_exporter": "python",
   "pygments_lexer": "ipython3",
   "version": "3.8.8"
  }
 },
 "nbformat": 4,
 "nbformat_minor": 5
}
